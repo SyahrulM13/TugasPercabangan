{
 "cells": [
  {
   "cell_type": "markdown",
   "id": "ed33daf9-83a7-40d2-bace-984db36ce0dd",
   "metadata": {},
   "source": [
    "<h1>Nama : Syahrul Mubarok\n",
    "Kelas : TI24A\n",
    "NIM : 20240040139</h1>"
   ]
  },
  {
   "cell_type": "markdown",
   "id": "5854a90d-e435-44ae-9e31-3bc520e011b1",
   "metadata": {
    "id": "5854a90d-e435-44ae-9e31-3bc520e011b1"
   },
   "source": [
    "Buatlah program yang meminta pengguna memasukkan usia seseorang, lalu tentukan apakah dia <br>\n",
    "anak-anak (0-12 tahun), remaja (13-17 tahun), dewasa (18-59 tahun), atau lansia (60 tahun ke atas)."
   ]
  },
  {
   "cell_type": "code",
   "execution_count": 20,
   "id": "75a2fdcd-1ef1-45e4-9d79-c6a7cb708a18",
   "metadata": {
    "id": "75a2fdcd-1ef1-45e4-9d79-c6a7cb708a18"
   },
   "outputs": [
    {
     "name": "stdin",
     "output_type": "stream",
     "text": [
      "Isikan Usia Anda 19\n"
     ]
    },
    {
     "name": "stdout",
     "output_type": "stream",
     "text": [
      "Usia Anda masuk dalam kategori : Dewasa\n"
     ]
    }
   ],
   "source": [
    "usia = int(input(\"Isikan Usia Anda\"))\n",
    "\n",
    "if 0 <=  usia <= 12:\n",
    "    kategori = \"Anak Anak\"\n",
    "elif 13 <= usia <= 17:\n",
    "    kategori = \"Remaja\"\n",
    "elif 18 <= usia <= 59:\n",
    "    kategori = \"Dewasa\"\n",
    "elif usia >= 60:\n",
    "    kategori = \"Lansia\"\n",
    "else:\n",
    "    kategori = \"Usia Tidak Valid\"\n",
    "\n",
    "print(f\"Usia Anda masuk dalam kategori :\",kategori)"
   ]
  },
  {
   "cell_type": "markdown",
   "id": "68c95835-e4ad-4bd0-89ca-168200893cf7",
   "metadata": {
    "id": "68c95835-e4ad-4bd0-89ca-168200893cf7"
   },
   "source": [
    "Sebuah taman hiburan memiliki aturan harga tiket berdasarkan usia:\n",
    "<ol>\n",
    "<li>Anak-anak (0-12 tahun): Rp 10.000</li>\n",
    "<li>Remaja (13-17 tahun): Rp 15.000</li>\n",
    "<li>Dewasa (18-59 tahun): Rp 25.000</li>\n",
    "<li>Lansia (60 tahun ke atas): Gratis</li>\n",
    "</ol>\n",
    "Buat program untuk menentukan harga tiket berdasarkan usia yang dimasukkan pengguna dan total harga yang harus dibayar, jika terdapat 3 input seperti berikut ini"
   ]
  },
  {
   "cell_type": "code",
   "execution_count": 55,
   "id": "66ee699f-8355-48e0-939a-dcc73ba4425b",
   "metadata": {
    "id": "66ee699f-8355-48e0-939a-dcc73ba4425b"
   },
   "outputs": [
    {
     "name": "stdin",
     "output_type": "stream",
     "text": [
      "Isikan Umur Tiket 1: 12\n",
      "Isikan Umur Tiket 2:  17\n",
      "Isikan Umur Tiket 3:  60\n"
     ]
    },
    {
     "name": "stdout",
     "output_type": "stream",
     "text": [
      "Total Harga yang harus dibayar:  25000\n"
     ]
    }
   ],
   "source": [
    "tiket1 = int(input(\"Isikan Umur Tiket 1:\"))\n",
    "tiket2 = int(input(\"Isikan Umur Tiket 2: \"))\n",
    "tiket3 = int(input(\"Isikan Umur Tiket 3: \"))\n",
    "\n",
    "def hargaTiket (usia):\n",
    "    if 0 <= usia <= 12:\n",
    "        return 10000\n",
    "    elif 13 <= usia <= 17:\n",
    "        return 15000\n",
    "    elif 18 <= usia <= 59:\n",
    "        return 25000\n",
    "    elif usia >= 60:\n",
    "        return 0\n",
    "    else:\n",
    "        \"Usia Tidak Valid\"\n",
    "\n",
    "totalHarga = (hargaTiket(tiket1) + hargaTiket(tiket2) + hargaTiket(tiket3))\n",
    "\n",
    "print(f\"Total Harga yang harus dibayar: \",totalHarga)\n",
    "\n"
   ]
  },
  {
   "cell_type": "markdown",
   "id": "82eac646-d930-42f5-a253-03f84c32f943",
   "metadata": {
    "id": "82eac646-d930-42f5-a253-03f84c32f943"
   },
   "source": [
    "Sebuah restoran memiliki diskon khusus:\n",
    "Anak-anak (0-12 tahun) diskon 50%\n",
    "Lansia (60 tahun ke atas) diskon 30%\n",
    "Selain itu, tidak ada diskon\n",
    "Buat program untuk menghitung harga yang harus dibayar setelah diskon diberikan."
   ]
  },
  {
   "cell_type": "code",
   "execution_count": 55,
   "id": "b72473ee-538c-40cd-8b46-99e4422a922a",
   "metadata": {
    "id": "feb31fca-fce6-4e5f-a25f-8752e7a0033b"
   },
   "outputs": [
    {
     "name": "stdin",
     "output_type": "stream",
     "text": [
      "Masukan Usia Anda:  12\n",
      "Masukan Harga:  200000\n"
     ]
    },
    {
     "name": "stdout",
     "output_type": "stream",
     "text": [
      "Diskon : 50 %\n",
      "Harga yang harus dibayar : Rp.100000.0\n"
     ]
    }
   ],
   "source": [
    "usia = int(input(\"Masukan Usia Anda: \"))\n",
    "harga = int(input(\"Masukan Harga: \"))\n",
    "\n",
    "if 0 <= usia <= 12:\n",
    "    diskon = 50\n",
    "    print(\"Diskon :\",diskon,\"%\")\n",
    "elif usia >= 60:\n",
    "    diskon = 30\n",
    "    print(\"Diskon :\",diskon,\"%\")\n",
    "else:\n",
    "    diskon = 0\n",
    "    \"Tidak Ada Diskon\"\n",
    "    print(f\"Maaf anda belum mendapatkan diskon\")\n",
    "\n",
    "hargaDiskon = harga - (harga * diskon/100)\n",
    "\n",
    "print(f\"Harga yang harus dibayar : Rp.{hargaDiskon}\")"
   ]
  },
  {
   "cell_type": "markdown",
   "id": "aee8bab3-9bf1-4732-97e1-7abb32ce7184",
   "metadata": {
    "id": "aee8bab3-9bf1-4732-97e1-7abb32ce7184"
   },
   "source": [
    "Program beasiswa:\n",
    "<ol>\n",
    "<li>Jika nilai rapor ≥ 90 dan penghasilan orang tua < Rp 5.000.000 → Beasiswa Penuh</li>\n",
    "<li>Jika nilai rapor ≥ 85 dan penghasilan orang tua < Rp 8.000.000 → Beasiswa 50%</li>\n",
    "<li>Jika tidak memenuhi syarat di atas → Tidak mendapatkan beasiswa</li>\n",
    "</ol>"
   ]
  },
  {
   "cell_type": "code",
   "execution_count": 26,
   "id": "55a9ec4f-531b-4326-bca3-e0d19b4be47d",
   "metadata": {
    "id": "55a9ec4f-531b-4326-bca3-e0d19b4be47d"
   },
   "outputs": [
    {
     "name": "stdin",
     "output_type": "stream",
     "text": [
      "Isikan Nilai Rapor : 85\n",
      "Isikan Penghasilan Orang Tua : 2000000\n"
     ]
    },
    {
     "name": "stdout",
     "output_type": "stream",
     "text": [
      "Selamat Anda mendapatkan Beasiswa 50%.\n"
     ]
    }
   ],
   "source": [
    "nilai = int(input(\"Isikan Nilai Rapor :\"))\n",
    "penghasilan = int(input(\"Isikan Penghasilan Orang Tua :\"))\n",
    "\n",
    "if nilai >= 90 and penghasilan < 5000000:\n",
    "    print(\"Selamat Anda mendapatkan Beasiswa Penuh.\")\n",
    "elif nilai >= 85 and penghasilan < 8000000:\n",
    "    print(\"Selamat Anda mendapatkan Beasiswa 50%.\")\n",
    "else:\n",
    "    print(\"Tidak mendapatkan Beasiswa.\")"
   ]
  },
  {
   "cell_type": "markdown",
   "id": "57ea9062-e1af-4650-8eab-a47a01a9d04f",
   "metadata": {
    "id": "57ea9062-e1af-4650-8eab-a47a01a9d04f"
   },
   "source": [
    "Suatu aplikasi streaming memiliki batasan usia:\n",
    "<ol>\n",
    "<li>Film Semua Umur: Bisa ditonton oleh siapa saja</li>\n",
    "<li>Film Remaja: Hanya untuk usia ≥ 13 tahun</li>\n",
    "<li>Film Dewasa: Hanya untuk usia ≥ 18 tahun</li>\n",
    "</ol>\n",
    "Buat program yang meminta input usia dan kategori film, lalu tentukan apakah seseorang boleh menonton film tersebut atau tidak."
   ]
  },
  {
   "cell_type": "code",
   "execution_count": 22,
   "id": "3331fea0-51fd-4809-9873-0415ea4fcc9d",
   "metadata": {},
   "outputs": [
    {
     "name": "stdin",
     "output_type": "stream",
     "text": [
      "Masukan Umur Penonton : 13\n",
      "Masukan Kategori Film (Semua Umur/Remaja/Dewasa) : Semua Umur\n"
     ]
    },
    {
     "name": "stdout",
     "output_type": "stream",
     "text": [
      "Anda boleh Menonton\n"
     ]
    }
   ],
   "source": [
    "umur = int(input(\"Masukan Umur Penonton :\"))\n",
    "kategoriFilm = input(\"Masukan Kategori Film (Semua Umur/Remaja/Dewasa) :\")\n",
    "\n",
    "if kategoriFilm == \"Semua Umur\":\n",
    "    print(\"Anda boleh Menonton\") \n",
    "elif kategoriFilm == \"Remaja\" and umur >= 13:\n",
    "    print(\"Anda boleh Menonton\")\n",
    "elif kategoriFilm == \"Dewasa\" and umur >= 18:\n",
    "    print(\"Anda boleh Menonton\")\n",
    "else:\n",
    "    print(\"Anda Tidak boleh Menonton Film ini.\")\n",
    "    \n"
   ]
  },
  {
   "cell_type": "markdown",
   "id": "7b87c04c-85f0-4dc1-a14a-f67d8b2c4e6a",
   "metadata": {
    "id": "7b87c04c-85f0-4dc1-a14a-f67d8b2c4e6a"
   },
   "source": [
    "Sebuah toko memberikan diskon berdasarkan jumlah pembelian:\n",
    "<ol>\n",
    "<li>Jika total belanja ≥ Rp 500.000 → Diskon 20%</li>\n",
    "<li>Jika total belanja ≥ Rp 250.000 → Diskon 10%</li>\n",
    "<li>Jika total belanja < Rp 250.000 → Tidak ada diskon</li>\n",
    "</ol>\n",
    "Hitung harga akhir setelah diskon."
   ]
  },
  {
   "cell_type": "code",
   "execution_count": 46,
   "id": "966923a0-c87b-4559-8fc1-3090d448ad4a",
   "metadata": {
    "id": "966923a0-c87b-4559-8fc1-3090d448ad4a"
   },
   "outputs": [
    {
     "name": "stdin",
     "output_type": "stream",
     "text": [
      "Isikan Total belanja : 200000\n"
     ]
    },
    {
     "name": "stdout",
     "output_type": "stream",
     "text": [
      "Tidak Ada Diskon\n",
      "total Belanja setelah diskon :200000.0\n"
     ]
    }
   ],
   "source": [
    "total = int(input(\"Isikan Total belanja :\"))\n",
    "\n",
    "if total >= 500000:\n",
    "    diskon = 20\n",
    "    print(\"Diskon :\", diskon,\"%\")\n",
    "elif total >= 250000:\n",
    "    diskon = 10\n",
    "    print(\"Diskon :\", diskon,\"%\")\n",
    "else:\n",
    "    diskon = 0\n",
    "    print(\"Tidak Ada Diskon\")\n",
    "\n",
    "hargaAkhir = total - (total * diskon/100)\n",
    "print(f\"total Belanja setelah diskon :{hargaAkhir}\")"
   ]
  },
  {
   "cell_type": "markdown",
   "id": "88e22629-48cc-4917-86e7-2bf4df863182",
   "metadata": {
    "id": "88e22629-48cc-4917-86e7-2bf4df863182"
   },
   "source": [
    "Program parkir:\n",
    "<ol>\n",
    "<li>Mobil: Rp 5.000 per jam</li>\n",
    "<li>Motor: Rp 2.000 per jam</li>\n",
    "<li>Jika parkir lebih dari 5 jam, ada biaya tambahan Rp 10.000</li>\n",
    "</ol>\n",
    "Hitung total biaya parkir berdasarkan jenis kendaraan dan durasi parkir."
   ]
  },
  {
   "cell_type": "code",
   "execution_count": 65,
   "id": "b8f7b918-70a1-4a88-945f-406c4aafbec7",
   "metadata": {
    "id": "b8f7b918-70a1-4a88-945f-406c4aafbec7"
   },
   "outputs": [
    {
     "name": "stdin",
     "output_type": "stream",
     "text": [
      "Masukan jenis kendaraan : Mobil\n",
      "Masukan durasi Parkir : 6\n"
     ]
    },
    {
     "name": "stdout",
     "output_type": "stream",
     "text": [
      "Total biaya parkir : Rp. 40000\n"
     ]
    }
   ],
   "source": [
    "kendaraan = input(\"Masukan jenis kendaraan :\")\n",
    "durasi = int(input(\"Masukan durasi Parkir :\"))\n",
    "\n",
    "if kendaraan == \"Mobil\":\n",
    "    tarif = 5000 \n",
    "elif kendaraan == \"Motor\":\n",
    "    tarif = 2000 \n",
    "else:\n",
    "    print(\"Tidak ada kendaraan seperti itcu\")\n",
    "\n",
    "total = tarif * durasi\n",
    "\n",
    "if durasi > 5:\n",
    "    total += 10000\n",
    "\n",
    "print(f\"Total biaya parkir : Rp. {total}\")\n",
    "\n"
   ]
  },
  {
   "cell_type": "markdown",
   "id": "2db1d34c-3f80-4f8c-aaf2-910c38c05414",
   "metadata": {
    "id": "2db1d34c-3f80-4f8c-aaf2-910c38c05414"
   },
   "source": [
    "Aplikasi transportasi online memiliki tarif sebagai berikut:\n",
    "<ol>\n",
    "<li>Jika jarak ≤ 5 km → Rp 5.000/km</li>\n",
    "<li>Jika jarak 6-10 km → Rp 4.000/km</li>\n",
    "<li>Jika jarak > 10 km → Rp 3.000/km</li>\n",
    "</ol>\n",
    "Hitung tarif perjalanan berdasarkan jarak yang dimasukkan pengguna.\n"
   ]
  },
  {
   "cell_type": "code",
   "execution_count": 45,
   "id": "5a5b719e-76f6-4f45-a8e4-07853113ce9e",
   "metadata": {
    "id": "5a5b719e-76f6-4f45-a8e4-07853113ce9e"
   },
   "outputs": [
    {
     "name": "stdin",
     "output_type": "stream",
     "text": [
      "Masukan Jarak perjalanan (km) : 9\n"
     ]
    },
    {
     "name": "stdout",
     "output_type": "stream",
     "text": [
      "total Tarif Perjalanan untuk 9km : Rp.36000\n"
     ]
    }
   ],
   "source": [
    "jarak = int(input(\"Masukan Jarak perjalanan (km) :\"))\n",
    "\n",
    "if jarak <= 5:\n",
    "    tarif = jarak * 5000\n",
    "elif 6 <= jarak <= 10:\n",
    "    tarif = jarak * 4000\n",
    "else:\n",
    "    tarif = jarak * 3000\n",
    "\n",
    "total = jarak and tarif\n",
    "\n",
    "print(f\"total Tarif Perjalanan untuk {jarak}km : Rp.{total}\")\n",
    "\n"
   ]
  },
  {
   "cell_type": "markdown",
   "id": "d1cf7b61-e309-40ec-b1fd-4bc56550a10d",
   "metadata": {
    "id": "d1cf7b61-e309-40ec-b1fd-4bc56550a10d"
   },
   "source": [
    "Buatlah sebuah sistem penerimaan calon programmer yang akan menerima dua nilai ( nilai coding dan nilai interview). Untuk penilaian test coding skala penilaian yang diberikan dimulai dari 0 hingga 100 dengan sistem penilaian:\n",
    "<ol>\n",
    "<li>ketika seseorang mendapatkan nilai lebih dari 80 maka peserta tersebut akan mendapatkan hasil tes LOLOS</li>\n",
    "<li>ketika sesorang mendapatkan nilai diantara 60 hingga 80 maka peserta tersebut mendapatkan hasil tes DIPERTIMBANGKAN</li>\n",
    "<li>ketika seseorang mendapatkan nilai dibawah 60 maka peserta tersebut mendapatkan hasil tes GAGAL.</li>\n",
    "</ol>\n",
    "\n",
    "Sedangkan untuk penilaian interview adalah\n",
    "<ol>\n",
    "<li>ketika nilai yang diberikan kepada seseorang tersebut adalah \"A\" atau \"B\" maka peserta tersebut dianggap LOLOS interview</li>\n",
    "\n",
    "<li>selain kedua nilai tersebut maka peserta dianggap GAGAL tes interview.</li>\n",
    "</ol>\n",
    "\n",
    "Ketika calon programmer mendapatkan nilai coding LOLOS atau DIPERTIMBANGKAN dan juga LOLOS test interview maka tampilkanlah pesan \"Selamat Kamu Berhasil Menjadi Calon Programmer\". Jika tidak maka tampilkanlah pesan \"Maaf Kamu Belum Berhasil Menjadi Calon Programmer\""
   ]
  },
  {
   "cell_type": "code",
   "execution_count": 66,
   "id": "7aeb0f89-e957-4c0d-a29c-139fc269e1c0",
   "metadata": {
    "id": "7aeb0f89-e957-4c0d-a29c-139fc269e1c0"
   },
   "outputs": [
    {
     "name": "stdin",
     "output_type": "stream",
     "text": [
      "Masukan nilai coding : 80\n",
      "Masukan Nilai Interview (A/B/C/D):  B\n"
     ]
    },
    {
     "name": "stdout",
     "output_type": "stream",
     "text": [
      "Maaf Kamu Belum Berhasil Menjadi Calon Programmer\n"
     ]
    }
   ],
   "source": [
    "nilai1 = int(input(\"Masukan nilai coding :\"))\n",
    "nilai2 = input(\"Masukan Nilai Interview (A/B/C/D): \")\n",
    "\n",
    "if nilai1 > 80:\n",
    "    hasil1 = \"LOLOS\"\n",
    "elif 60 <= nilai1 <= 80:\n",
    "    hasil1 = \"Dipertimbangkan\"\n",
    "else:\n",
    "    hasil1 = \"GAGAL\"\n",
    "\n",
    "if nilai2 in [\"A\", \"B\"]:\n",
    "    hasil2 = \"LOLOS\"\n",
    "else:\n",
    "    hasil2 = \"GAGAL\"\n",
    "\n",
    "if (hasil1 in [\"LOLOS\", \"DIPERTIMBANGKAN\"]) and hasil2 == \"LOLOS\":\n",
    "    print(\"Selamat Kamu Berhasil Menjadi Calon Programmer\")\n",
    "else:\n",
    "    print(\"Maaf Kamu Belum Berhasil Menjadi Calon Programmer\")"
   ]
  },
  {
   "cell_type": "markdown",
   "id": "364647af-075b-4bc0-8c83-4c816415ff74",
   "metadata": {
    "id": "364647af-075b-4bc0-8c83-4c816415ff74"
   },
   "source": [
    "Sebuah klub sepak bola “PERSEGI FC” mempunyai aturan dalam memberikan nomor punggung bagi para pemainnya. Para pemain diperbolehkan mempunyai posisi lebih dari 1. Berikut adalah beberapa\n",
    "aturannya:\n",
    "<ol>\n",
    "<li>Untuk nomor punggung genap, digunakan untuk posisi “target attacker”</li>\n",
    "<li>Untuk nomor punggung genap antara 50 – 100, digunakan untuk pemain yang “berhak dipilih menjadi capten team”</li>\n",
    "<li>Untuk nomor punggung ganjil, digunakan untuk posisi “defender”</li>\n",
    "<li>Untuk nomor punggung ganjil lebih dari 90, digunakan untuk posisi “Playmaker”</li>\n",
    "<li>Untuk nomor punggung ganjil kelipatan dari 3 dan 5, digunakan untuk posisi “keeper”</li>\n",
    "</ol>\n",
    "Buatlah program untuk melakukan pengecekan sebuah nomor punggung dapat berfungsi sebagai posisi apa saja."
   ]
  },
  {
   "cell_type": "code",
   "execution_count": null,
   "id": "2d1d5589-126b-44e3-9d9e-1bed865ff65c",
   "metadata": {
    "id": "2d1d5589-126b-44e3-9d9e-1bed865ff65c"
   },
   "outputs": [],
   "source": [
    "nomorP = int(input(\"Masukan No Punggung Pemain :\"))\n",
    "posisi = \"\" \n",
    "\n",
    "if nomorP % 2 == 0:\n",
    "    posisi += \"Attacker\"\n",
    "    if 50 <= nomorP <= 100:\n",
    "        posisi += \" Berhak Dipilih Menjadi Captain Team\"\n",
    "else:\n",
    "    posisi += \"Defender\"\n",
    "    if nomorP > 90:\n",
    "        posisi += \"Playmaker\"\n",
    "    if nomorP % 3 == 0 and nomorP % 5 == 0:\n",
    "        posisi += \"Keeper\"\n",
    "    else:\n",
    "        posisi = \"Tidak memiliki Posisi\"\n",
    "\n",
    "hasil = posisi\n",
    "\n",
    "print(\"Nomor Punggung\",nomorP, \"Dapat Berfungsi Sebagai :\")\n",
    "print(hasil)\n"
   ]
  }
 ],
 "metadata": {
  "colab": {
   "provenance": []
  },
  "kernelspec": {
   "display_name": "Python [conda env:base] *",
   "language": "python",
   "name": "conda-base-py"
  },
  "language_info": {
   "codemirror_mode": {
    "name": "ipython",
    "version": 3
   },
   "file_extension": ".py",
   "mimetype": "text/x-python",
   "name": "python",
   "nbconvert_exporter": "python",
   "pygments_lexer": "ipython3",
   "version": "3.12.7"
  }
 },
 "nbformat": 4,
 "nbformat_minor": 5
}
